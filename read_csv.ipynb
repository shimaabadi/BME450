{
  "nbformat": 4,
  "nbformat_minor": 0,
  "metadata": {
    "colab": {
      "name": "read-csv.ipynb",
      "provenance": []
    },
    "kernelspec": {
      "name": "python3",
      "display_name": "Python 3"
    }
  },
  "cells": [
    {
      "cell_type": "markdown",
      "metadata": {
        "id": "pi0OJQ6fkHtO"
      },
      "source": [
        "**Read a csv file**\n",
        "\n",
        "\n",
        "By Shima Abadi, Jan. 2020"
      ]
    },
    {
      "cell_type": "markdown",
      "metadata": {
        "id": "i4VAPWTVkQGq"
      },
      "source": [
        "**Using Numpy**\n",
        "\n",
        "First method is using numpy to load a csv file"
      ]
    },
    {
      "cell_type": "code",
      "metadata": {
        "colab": {
          "base_uri": "https://localhost:8080/"
        },
        "id": "RYOzbNVjj8fn",
        "outputId": "1d07798d-fd00-4595-a8b1-0c12f57b56be"
      },
      "source": [
        "import numpy as np\n",
        "data = np.loadtxt('data_example.csv', delimiter=\",\")\n",
        "print(data.shape)"
      ],
      "execution_count": 2,
      "outputs": [
        {
          "output_type": "stream",
          "text": [
            "(400, 2)\n"
          ],
          "name": "stdout"
        }
      ]
    },
    {
      "cell_type": "code",
      "metadata": {
        "colab": {
          "base_uri": "https://localhost:8080/"
        },
        "id": "LHeYkCM2-Ga2",
        "outputId": "622fe2e7-52b3-4d0f-acde-6c2228df99c6"
      },
      "source": [
        "print(data)"
      ],
      "execution_count": 6,
      "outputs": [
        {
          "output_type": "stream",
          "text": [
            "[[1.00000000e+00 5.07333540e+01]\n",
            " [2.00000000e+00 2.02996996e+02]\n",
            " [3.00000000e+00 8.35248782e+01]\n",
            " [4.00000000e+00 3.33513349e+01]\n",
            " [5.00000000e+00 2.09586650e+02]\n",
            " [6.00000000e+00 1.37653375e+02]\n",
            " [7.00000000e+00 3.76790534e+01]\n",
            " [8.00000000e+00 1.87270012e+02]\n",
            " [9.00000000e+00 1.56835173e+02]\n",
            " [1.00000000e+01 1.53806181e+02]\n",
            " [1.10000000e+01 1.83693679e+02]\n",
            " [1.20000000e+01 1.89066584e+02]\n",
            " [1.30000000e+01 1.92480431e+02]\n",
            " [1.40000000e+01 5.55638179e+01]\n",
            " [1.50000000e+01 9.97299563e+01]\n",
            " [1.60000000e+01 1.96766106e+02]\n",
            " [1.70000000e+01 1.64851127e+02]\n",
            " [1.80000000e+01 2.14796050e+02]\n",
            " [1.90000000e+01 1.17153524e+02]\n",
            " [2.00000000e+01 2.58542435e+02]\n",
            " [2.10000000e+01 1.66671315e+02]\n",
            " [2.20000000e+01 8.97700459e+01]\n",
            " [2.30000000e+01 1.94228345e+02]\n",
            " [2.40000000e+01 1.59327797e+02]\n",
            " [2.50000000e+01 1.13042869e+02]\n",
            " [2.60000000e+01 1.17626334e+02]\n",
            " [2.70000000e+01 2.62543353e+02]\n",
            " [2.80000000e+01 1.67536313e+02]\n",
            " [2.90000000e+01 1.53349884e+02]\n",
            " [3.00000000e+01 2.58725392e+02]\n",
            " [3.10000000e+01 2.33211781e+02]\n",
            " [3.20000000e+01 2.16006163e+02]\n",
            " [3.30000000e+01 2.02255196e+02]\n",
            " [3.40000000e+01 2.45928541e+02]\n",
            " [3.50000000e+01 2.51098102e+02]\n",
            " [3.60000000e+01 2.43981349e+02]\n",
            " [3.70000000e+01 1.15856193e+02]\n",
            " [3.80000000e+01 1.79487305e+02]\n",
            " [3.90000000e+01 2.00761118e+02]\n",
            " [4.00000000e+01 2.91751569e+02]\n",
            " [4.10000000e+01 1.39296158e+02]\n",
            " [4.20000000e+01 1.44156272e+02]\n",
            " [4.30000000e+01 2.34436047e+02]\n",
            " [4.40000000e+01 2.93112530e+02]\n",
            " [4.50000000e+01 2.16441528e+02]\n",
            " [4.60000000e+01 2.86112897e+02]\n",
            " [4.70000000e+01 1.97218136e+02]\n",
            " [4.80000000e+01 2.87693212e+02]\n",
            " [4.90000000e+01 2.55925078e+02]\n",
            " [5.00000000e+01 2.66868013e+02]\n",
            " [5.10000000e+01 2.41931734e+02]\n",
            " [5.20000000e+01 3.24243857e+02]\n",
            " [5.30000000e+01 2.25532471e+02]\n",
            " [5.40000000e+01 1.64483566e+02]\n",
            " [5.50000000e+01 2.46054007e+02]\n",
            " [5.60000000e+01 3.29798971e+02]\n",
            " [5.70000000e+01 3.65322591e+02]\n",
            " [5.80000000e+01 2.65870704e+02]\n",
            " [5.90000000e+01 2.49416301e+02]\n",
            " [6.00000000e+01 1.95971507e+02]\n",
            " [6.10000000e+01 2.70665371e+02]\n",
            " [6.20000000e+01 3.41073241e+02]\n",
            " [6.30000000e+01 3.37187798e+02]\n",
            " [6.40000000e+01 3.17901200e+02]\n",
            " [6.50000000e+01 1.96978591e+02]\n",
            " [6.60000000e+01 1.99365536e+02]\n",
            " [6.70000000e+01 2.32134081e+02]\n",
            " [6.80000000e+01 2.52086378e+02]\n",
            " [6.90000000e+01 2.97277087e+02]\n",
            " [7.00000000e+01 4.08450015e+02]\n",
            " [7.10000000e+01 2.91907636e+02]\n",
            " [7.20000000e+01 3.93938900e+02]\n",
            " [7.30000000e+01 2.29539987e+02]\n",
            " [7.40000000e+01 2.95596374e+02]\n",
            " [7.50000000e+01 2.30833357e+02]\n",
            " [7.60000000e+01 2.76268279e+02]\n",
            " [7.70000000e+01 3.88112872e+02]\n",
            " [7.80000000e+01 4.32237357e+02]\n",
            " [7.90000000e+01 2.94665762e+02]\n",
            " [8.00000000e+01 2.54347651e+02]\n",
            " [8.10000000e+01 2.57989093e+02]\n",
            " [8.20000000e+01 3.88333482e+02]\n",
            " [8.30000000e+01 2.75272766e+02]\n",
            " [8.40000000e+01 2.93824536e+02]\n",
            " [8.50000000e+01 2.89532288e+02]\n",
            " [8.60000000e+01 4.33441701e+02]\n",
            " [8.70000000e+01 4.22455946e+02]\n",
            " [8.80000000e+01 4.61276812e+02]\n",
            " [8.90000000e+01 3.68726123e+02]\n",
            " [9.00000000e+01 2.92199963e+02]\n",
            " [9.10000000e+01 2.77080910e+02]\n",
            " [9.20000000e+01 2.78063246e+02]\n",
            " [9.30000000e+01 3.77773807e+02]\n",
            " [9.40000000e+01 4.47445023e+02]\n",
            " [9.50000000e+01 4.34970710e+02]\n",
            " [9.60000000e+01 3.12398498e+02]\n",
            " [9.70000000e+01 3.79089938e+02]\n",
            " [9.80000000e+01 4.44082814e+02]\n",
            " [9.90000000e+01 3.83113702e+02]\n",
            " [1.00000000e+02 4.50395893e+02]\n",
            " [1.01000000e+02 3.64937540e+02]\n",
            " [1.02000000e+02 4.06942330e+02]\n",
            " [1.03000000e+02 4.99734268e+02]\n",
            " [1.04000000e+02 3.52764192e+02]\n",
            " [1.05000000e+02 3.38456700e+02]\n",
            " [1.06000000e+02 4.46795272e+02]\n",
            " [1.07000000e+02 4.75521411e+02]\n",
            " [1.08000000e+02 3.53295323e+02]\n",
            " [1.09000000e+02 3.53880065e+02]\n",
            " [1.10000000e+02 4.47328550e+02]\n",
            " [1.11000000e+02 4.47826496e+02]\n",
            " [1.12000000e+02 4.69915372e+02]\n",
            " [1.13000000e+02 4.60055641e+02]\n",
            " [1.14000000e+02 3.70869507e+02]\n",
            " [1.15000000e+02 3.85506193e+02]\n",
            " [1.16000000e+02 4.32964071e+02]\n",
            " [1.17000000e+02 5.09831762e+02]\n",
            " [1.18000000e+02 4.58197322e+02]\n",
            " [1.19000000e+02 3.93396602e+02]\n",
            " [1.20000000e+02 5.05556223e+02]\n",
            " [1.21000000e+02 3.71691624e+02]\n",
            " [1.22000000e+02 3.77655450e+02]\n",
            " [1.23000000e+02 3.87352812e+02]\n",
            " [1.24000000e+02 4.22831234e+02]\n",
            " [1.25000000e+02 5.38217659e+02]\n",
            " [1.26000000e+02 3.90401282e+02]\n",
            " [1.27000000e+02 4.28613777e+02]\n",
            " [1.28000000e+02 4.46391850e+02]\n",
            " [1.29000000e+02 5.45600893e+02]\n",
            " [1.30000000e+02 4.13467249e+02]\n",
            " [1.31000000e+02 5.05757042e+02]\n",
            " [1.32000000e+02 4.58606630e+02]\n",
            " [1.33000000e+02 5.39640877e+02]\n",
            " [1.34000000e+02 4.75592360e+02]\n",
            " [1.35000000e+02 4.83371843e+02]\n",
            " [1.36000000e+02 5.68690195e+02]\n",
            " [1.37000000e+02 5.82302430e+02]\n",
            " [1.38000000e+02 4.49535897e+02]\n",
            " [1.39000000e+02 5.22745261e+02]\n",
            " [1.40000000e+02 5.72779377e+02]\n",
            " [1.41000000e+02 5.12578293e+02]\n",
            " [1.42000000e+02 5.06148877e+02]\n",
            " [1.43000000e+02 5.13827430e+02]\n",
            " [1.44000000e+02 5.96743569e+02]\n",
            " [1.45000000e+02 6.11095833e+02]\n",
            " [1.46000000e+02 5.53765307e+02]\n",
            " [1.47000000e+02 4.52595124e+02]\n",
            " [1.48000000e+02 5.41281021e+02]\n",
            " [1.49000000e+02 6.41343230e+02]\n",
            " [1.50000000e+02 6.11216858e+02]\n",
            " [1.51000000e+02 5.41478619e+02]\n",
            " [1.52000000e+02 4.71721599e+02]\n",
            " [1.53000000e+02 5.20600874e+02]\n",
            " [1.54000000e+02 6.24564839e+02]\n",
            " [1.55000000e+02 5.33284176e+02]\n",
            " [1.56000000e+02 5.50290253e+02]\n",
            " [1.57000000e+02 6.14945496e+02]\n",
            " [1.58000000e+02 4.79853216e+02]\n",
            " [1.59000000e+02 5.70942720e+02]\n",
            " [1.60000000e+02 5.95320485e+02]\n",
            " [1.61000000e+02 5.78526447e+02]\n",
            " [1.62000000e+02 5.53498822e+02]\n",
            " [1.63000000e+02 5.97619671e+02]\n",
            " [1.64000000e+02 6.26524774e+02]\n",
            " [1.65000000e+02 5.56045685e+02]\n",
            " [1.66000000e+02 6.91958947e+02]\n",
            " [1.67000000e+02 6.21506834e+02]\n",
            " [1.68000000e+02 6.33228218e+02]\n",
            " [1.69000000e+02 5.28758779e+02]\n",
            " [1.70000000e+02 5.86794632e+02]\n",
            " [1.71000000e+02 6.07478868e+02]\n",
            " [1.72000000e+02 6.35186712e+02]\n",
            " [1.73000000e+02 7.06097677e+02]\n",
            " [1.74000000e+02 6.62396130e+02]\n",
            " [1.75000000e+02 6.94044502e+02]\n",
            " [1.76000000e+02 6.96803434e+02]\n",
            " [1.77000000e+02 6.37079577e+02]\n",
            " [1.78000000e+02 6.58848440e+02]\n",
            " [1.79000000e+02 5.37676521e+02]\n",
            " [1.80000000e+02 7.05100917e+02]\n",
            " [1.81000000e+02 5.82805994e+02]\n",
            " [1.82000000e+02 6.09941261e+02]\n",
            " [1.83000000e+02 5.60744434e+02]\n",
            " [1.84000000e+02 7.13090426e+02]\n",
            " [1.85000000e+02 6.87097905e+02]\n",
            " [1.86000000e+02 6.68189584e+02]\n",
            " [1.87000000e+02 5.70528791e+02]\n",
            " [1.88000000e+02 6.52246717e+02]\n",
            " [1.89000000e+02 6.92541979e+02]\n",
            " [1.90000000e+02 7.03017717e+02]\n",
            " [1.91000000e+02 6.12416582e+02]\n",
            " [1.92000000e+02 5.84893190e+02]\n",
            " [1.93000000e+02 6.40810204e+02]\n",
            " [1.94000000e+02 6.72513911e+02]\n",
            " [1.95000000e+02 6.67994691e+02]\n",
            " [1.96000000e+02 6.13936204e+02]\n",
            " [1.97000000e+02 6.31044080e+02]\n",
            " [1.98000000e+02 7.30420869e+02]\n",
            " [1.99000000e+02 6.14956199e+02]\n",
            " [2.00000000e+02 7.50236137e+02]\n",
            " [2.01000000e+02 7.75678709e+02]\n",
            " [2.02000000e+02 7.39811448e+02]\n",
            " [2.03000000e+02 7.86623297e+02]\n",
            " [2.04000000e+02 6.96950222e+02]\n",
            " [2.05000000e+02 7.54628410e+02]\n",
            " [2.06000000e+02 6.24198881e+02]\n",
            " [2.07000000e+02 6.46453592e+02]\n",
            " [2.08000000e+02 6.54924497e+02]\n",
            " [2.09000000e+02 7.43837232e+02]\n",
            " [2.10000000e+02 6.49627531e+02]\n",
            " [2.11000000e+02 7.51881153e+02]\n",
            " [2.12000000e+02 7.35806889e+02]\n",
            " [2.13000000e+02 7.59461307e+02]\n",
            " [2.14000000e+02 8.36176903e+02]\n",
            " [2.15000000e+02 7.93390635e+02]\n",
            " [2.16000000e+02 6.83619434e+02]\n",
            " [2.17000000e+02 7.69914255e+02]\n",
            " [2.18000000e+02 8.15109346e+02]\n",
            " [2.19000000e+02 6.68717610e+02]\n",
            " [2.20000000e+02 6.67758141e+02]\n",
            " [2.21000000e+02 6.81123592e+02]\n",
            " [2.22000000e+02 8.52235185e+02]\n",
            " [2.23000000e+02 7.74445022e+02]\n",
            " [2.24000000e+02 7.92440402e+02]\n",
            " [2.25000000e+02 7.54085417e+02]\n",
            " [2.26000000e+02 7.95971935e+02]\n",
            " [2.27000000e+02 8.54641255e+02]\n",
            " [2.28000000e+02 8.28346912e+02]\n",
            " [2.29000000e+02 8.25102931e+02]\n",
            " [2.30000000e+02 8.87902828e+02]\n",
            " [2.31000000e+02 8.90514289e+02]\n",
            " [2.32000000e+02 8.49814772e+02]\n",
            " [2.33000000e+02 7.94544504e+02]\n",
            " [2.34000000e+02 7.25549060e+02]\n",
            " [2.35000000e+02 7.15988523e+02]\n",
            " [2.36000000e+02 8.40392625e+02]\n",
            " [2.37000000e+02 7.44701584e+02]\n",
            " [2.38000000e+02 8.18027853e+02]\n",
            " [2.39000000e+02 7.22221153e+02]\n",
            " [2.40000000e+02 8.91442917e+02]\n",
            " [2.41000000e+02 7.98034534e+02]\n",
            " [2.42000000e+02 8.39217005e+02]\n",
            " [2.43000000e+02 9.22177082e+02]\n",
            " [2.44000000e+02 9.13993738e+02]\n",
            " [2.45000000e+02 7.42137578e+02]\n",
            " [2.46000000e+02 9.23902172e+02]\n",
            " [2.47000000e+02 8.97066614e+02]\n",
            " [2.48000000e+02 9.23103270e+02]\n",
            " [2.49000000e+02 9.25005935e+02]\n",
            " [2.50000000e+02 9.19412433e+02]\n",
            " [2.51000000e+02 7.69127286e+02]\n",
            " [2.52000000e+02 8.59535632e+02]\n",
            " [2.53000000e+02 7.97633208e+02]\n",
            " [2.54000000e+02 8.90086221e+02]\n",
            " [2.55000000e+02 7.82114431e+02]\n",
            " [2.56000000e+02 9.11578140e+02]\n",
            " [2.57000000e+02 9.67558085e+02]\n",
            " [2.58000000e+02 7.75237251e+02]\n",
            " [2.59000000e+02 9.10793847e+02]\n",
            " [2.60000000e+02 8.55440790e+02]\n",
            " [2.61000000e+02 9.43624979e+02]\n",
            " [2.62000000e+02 7.92646159e+02]\n",
            " [2.63000000e+02 9.59568512e+02]\n",
            " [2.64000000e+02 9.61144995e+02]\n",
            " [2.65000000e+02 9.08187540e+02]\n",
            " [2.66000000e+02 9.52992464e+02]\n",
            " [2.67000000e+02 8.71618586e+02]\n",
            " [2.68000000e+02 9.54263577e+02]\n",
            " [2.69000000e+02 9.49236224e+02]\n",
            " [2.70000000e+02 9.10901763e+02]\n",
            " [2.71000000e+02 9.89597870e+02]\n",
            " [2.72000000e+02 1.00024432e+03]\n",
            " [2.73000000e+02 1.01683368e+03]\n",
            " [2.74000000e+02 9.13498689e+02]\n",
            " [2.75000000e+02 9.55238666e+02]\n",
            " [2.76000000e+02 1.02492983e+03]\n",
            " [2.77000000e+02 8.71834814e+02]\n",
            " [2.78000000e+02 1.02019831e+03]\n",
            " [2.79000000e+02 8.47894682e+02]\n",
            " [2.80000000e+02 1.03115564e+03]\n",
            " [2.81000000e+02 8.68440263e+02]\n",
            " [2.82000000e+02 1.02561447e+03]\n",
            " [2.83000000e+02 1.02717939e+03]\n",
            " [2.84000000e+02 8.78153124e+02]\n",
            " [2.85000000e+02 9.43471463e+02]\n",
            " [2.86000000e+02 9.26049197e+02]\n",
            " [2.87000000e+02 9.90278939e+02]\n",
            " [2.88000000e+02 8.71059615e+02]\n",
            " [2.89000000e+02 9.85237883e+02]\n",
            " [2.90000000e+02 8.92879883e+02]\n",
            " [2.91000000e+02 9.12003862e+02]\n",
            " [2.92000000e+02 9.37154512e+02]\n",
            " [2.93000000e+02 1.05549695e+03]\n",
            " [2.94000000e+02 8.84681013e+02]\n",
            " [2.95000000e+02 1.06398081e+03]\n",
            " [2.96000000e+02 1.02446403e+03]\n",
            " [2.97000000e+02 1.05067654e+03]\n",
            " [2.98000000e+02 9.35941241e+02]\n",
            " [2.99000000e+02 1.04015656e+03]\n",
            " [3.00000000e+02 9.68853950e+02]\n",
            " [3.01000000e+02 1.04449095e+03]\n",
            " [3.02000000e+02 9.50677606e+02]\n",
            " [3.03000000e+02 9.41584951e+02]\n",
            " [3.04000000e+02 9.16142892e+02]\n",
            " [3.05000000e+02 1.09592438e+03]\n",
            " [3.06000000e+02 1.01171596e+03]\n",
            " [3.07000000e+02 1.12042688e+03]\n",
            " [3.08000000e+02 9.26728021e+02]\n",
            " [3.09000000e+02 1.07565629e+03]\n",
            " [3.10000000e+02 1.11812156e+03]\n",
            " [3.11000000e+02 1.05546207e+03]\n",
            " [3.12000000e+02 9.72831448e+02]\n",
            " [3.13000000e+02 1.00836706e+03]\n",
            " [3.14000000e+02 1.02117281e+03]\n",
            " [3.15000000e+02 1.12332197e+03]\n",
            " [3.16000000e+02 1.07106119e+03]\n",
            " [3.17000000e+02 9.99510279e+02]\n",
            " [3.18000000e+02 9.64206250e+02]\n",
            " [3.19000000e+02 1.06772620e+03]\n",
            " [3.20000000e+02 1.10216186e+03]\n",
            " [3.21000000e+02 1.00377554e+03]\n",
            " [3.22000000e+02 1.11206762e+03]\n",
            " [3.23000000e+02 1.08057063e+03]\n",
            " [3.24000000e+02 1.05248020e+03]\n",
            " [3.25000000e+02 1.11683984e+03]\n",
            " [3.26000000e+02 1.00058877e+03]\n",
            " [3.27000000e+02 1.02708590e+03]\n",
            " [3.28000000e+02 1.08930081e+03]\n",
            " [3.29000000e+02 1.17722658e+03]\n",
            " [3.30000000e+02 1.03680360e+03]\n",
            " [3.31000000e+02 1.08572890e+03]\n",
            " [3.32000000e+02 1.17648592e+03]\n",
            " [3.33000000e+02 1.08785156e+03]\n",
            " [3.34000000e+02 1.15596852e+03]\n",
            " [3.35000000e+02 1.18455433e+03]\n",
            " [3.36000000e+02 1.18018331e+03]\n",
            " [3.37000000e+02 1.12321355e+03]\n",
            " [3.38000000e+02 1.01618340e+03]\n",
            " [3.39000000e+02 1.03486558e+03]\n",
            " [3.40000000e+02 1.16133891e+03]\n",
            " [3.41000000e+02 1.06574538e+03]\n",
            " [3.42000000e+02 1.19221424e+03]\n",
            " [3.43000000e+02 1.09669627e+03]\n",
            " [3.44000000e+02 1.08108661e+03]\n",
            " [3.45000000e+02 1.07770780e+03]\n",
            " [3.46000000e+02 1.08695724e+03]\n",
            " [3.47000000e+02 1.13602450e+03]\n",
            " [3.48000000e+02 1.13235331e+03]\n",
            " [3.49000000e+02 1.12709932e+03]\n",
            " [3.50000000e+02 1.23548938e+03]\n",
            " [3.51000000e+02 1.11295693e+03]\n",
            " [3.52000000e+02 1.07088585e+03]\n",
            " [3.53000000e+02 1.15785879e+03]\n",
            " [3.54000000e+02 1.11441658e+03]\n",
            " [3.55000000e+02 1.18242546e+03]\n",
            " [3.56000000e+02 1.17439841e+03]\n",
            " [3.57000000e+02 1.24198171e+03]\n",
            " [3.58000000e+02 1.27218330e+03]\n",
            " [3.59000000e+02 1.10040754e+03]\n",
            " [3.60000000e+02 1.09065036e+03]\n",
            " [3.61000000e+02 1.12272748e+03]\n",
            " [3.62000000e+02 1.19361301e+03]\n",
            " [3.63000000e+02 1.24653553e+03]\n",
            " [3.64000000e+02 1.23800384e+03]\n",
            " [3.65000000e+02 1.12649055e+03]\n",
            " [3.66000000e+02 1.25747543e+03]\n",
            " [3.67000000e+02 1.16192814e+03]\n",
            " [3.68000000e+02 1.15068492e+03]\n",
            " [3.69000000e+02 1.20904025e+03]\n",
            " [3.70000000e+02 1.19710895e+03]\n",
            " [3.71000000e+02 1.14850062e+03]\n",
            " [3.72000000e+02 1.24912769e+03]\n",
            " [3.73000000e+02 1.30715238e+03]\n",
            " [3.74000000e+02 1.17076057e+03]\n",
            " [3.75000000e+02 1.27272514e+03]\n",
            " [3.76000000e+02 1.28231635e+03]\n",
            " [3.77000000e+02 1.25357731e+03]\n",
            " [3.78000000e+02 1.19451851e+03]\n",
            " [3.79000000e+02 1.23268451e+03]\n",
            " [3.80000000e+02 1.16956101e+03]\n",
            " [3.81000000e+02 1.20617671e+03]\n",
            " [3.82000000e+02 1.23612459e+03]\n",
            " [3.83000000e+02 1.22644805e+03]\n",
            " [3.84000000e+02 1.19093893e+03]\n",
            " [3.85000000e+02 1.20597554e+03]\n",
            " [3.86000000e+02 1.21127302e+03]\n",
            " [3.87000000e+02 1.27091937e+03]\n",
            " [3.88000000e+02 1.22111571e+03]\n",
            " [3.89000000e+02 1.23296325e+03]\n",
            " [3.90000000e+02 1.27709306e+03]\n",
            " [3.91000000e+02 1.27701619e+03]\n",
            " [3.92000000e+02 1.23969856e+03]\n",
            " [3.93000000e+02 1.29287316e+03]\n",
            " [3.94000000e+02 1.31070673e+03]\n",
            " [3.95000000e+02 1.30557750e+03]\n",
            " [3.96000000e+02 1.21168480e+03]\n",
            " [3.97000000e+02 1.28787201e+03]\n",
            " [3.98000000e+02 1.28325049e+03]\n",
            " [3.99000000e+02 1.31626216e+03]\n",
            " [4.00000000e+02 1.25769955e+03]]\n"
          ],
          "name": "stdout"
        }
      ]
    },
    {
      "cell_type": "code",
      "metadata": {
        "colab": {
          "base_uri": "https://localhost:8080/",
          "height": 282
        },
        "id": "UWAW3pfNkCfJ",
        "outputId": "40d774b5-cc8a-4bc9-c9b8-005069d90031"
      },
      "source": [
        "import matplotlib.pyplot as plt\n",
        "X = data[:,0]\n",
        "Y = data[:,1]\n",
        "plt.plot(X,Y)"
      ],
      "execution_count": 3,
      "outputs": [
        {
          "output_type": "execute_result",
          "data": {
            "text/plain": [
              "[<matplotlib.lines.Line2D at 0x7f7745b72be0>]"
            ]
          },
          "metadata": {
            "tags": []
          },
          "execution_count": 3
        },
        {
          "output_type": "display_data",
          "data": {
            "image/png": "[encoded data removed]",
            "text/plain": [
              "<Figure size 432x288 with 1 Axes>"
            ]
          },
          "metadata": {
            "tags": [],
            "needs_background": "light"
          }
        }
      ]
    },
    {
      "cell_type": "markdown",
      "metadata": {
        "id": "6_lGdYrHM4jW"
      },
      "source": [
        "**Read a csv file using Pandas**"
      ]
    },
    {
      "cell_type": "code",
      "metadata": {
        "colab": {
          "base_uri": "https://localhost:8080/"
        },
        "id": "uDglLa48MuEJ",
        "outputId": "366ee97d-8c62-4a7d-c915-9d0e38be58cc"
      },
      "source": [
        "import pandas as pd\n",
        "df = pd.read_csv('data_example_2.csv')\n",
        "print(df)"
      ],
      "execution_count": 5,
      "outputs": [
        {
          "output_type": "stream",
          "text": [
            "     Sample     Pressure\n",
            "0         1    50.733354\n",
            "1         2   202.996997\n",
            "2         3    83.524878\n",
            "3         4    33.351335\n",
            "4         5   209.586650\n",
            "..      ...          ...\n",
            "394     396  1211.684799\n",
            "395     397  1287.872014\n",
            "396     398  1283.250485\n",
            "397     399  1316.262159\n",
            "398     400  1257.699553\n",
            "\n",
            "[399 rows x 2 columns]\n"
          ],
          "name": "stdout"
        }
      ]
    },
    {
      "cell_type": "code",
      "metadata": {
        "colab": {
          "base_uri": "https://localhost:8080/"
        },
        "id": "7Os_posmPWfN",
        "outputId": "b6f37597-cf03-4a10-c0bd-c0c47672da26"
      },
      "source": [
        "df.columns"
      ],
      "execution_count": 7,
      "outputs": [
        {
          "output_type": "execute_result",
          "data": {
            "text/plain": [
              "Index(['Sample', 'Pressure'], dtype='object')"
            ]
          },
          "metadata": {
            "tags": []
          },
          "execution_count": 7
        }
      ]
    },
    {
      "cell_type": "code",
      "metadata": {
        "colab": {
          "base_uri": "https://localhost:8080/"
        },
        "id": "cvxg7AAm78Y7",
        "outputId": "90df969c-8b51-4bac-d391-3719b4160722"
      },
      "source": [
        "df.Pressure"
      ],
      "execution_count": 8,
      "outputs": [
        {
          "output_type": "execute_result",
          "data": {
            "text/plain": [
              "0        50.733354\n",
              "1       202.996997\n",
              "2        83.524878\n",
              "3        33.351335\n",
              "4       209.586650\n",
              "          ...     \n",
              "394    1211.684799\n",
              "395    1287.872014\n",
              "396    1283.250485\n",
              "397    1316.262159\n",
              "398    1257.699553\n",
              "Name: Pressure, Length: 399, dtype: float64"
            ]
          },
          "metadata": {
            "tags": []
          },
          "execution_count": 8
        }
      ]
    },
    {
      "cell_type": "code",
      "metadata": {
        "colab": {
          "base_uri": "https://localhost:8080/"
        },
        "id": "7Av8f8pr7-SX",
        "outputId": "cd919e9e-2c92-4ebb-88d3-d04b3f1ca001"
      },
      "source": [
        "df['Pressure']"
      ],
      "execution_count": 9,
      "outputs": [
        {
          "output_type": "execute_result",
          "data": {
            "text/plain": [
              "0        50.733354\n",
              "1       202.996997\n",
              "2        83.524878\n",
              "3        33.351335\n",
              "4       209.586650\n",
              "          ...     \n",
              "394    1211.684799\n",
              "395    1287.872014\n",
              "396    1283.250485\n",
              "397    1316.262159\n",
              "398    1257.699553\n",
              "Name: Pressure, Length: 399, dtype: float64"
            ]
          },
          "metadata": {
            "tags": []
          },
          "execution_count": 9
        }
      ]
    },
    {
      "cell_type": "code",
      "metadata": {
        "colab": {
          "base_uri": "https://localhost:8080/"
        },
        "id": "3u77Tkwr7t-Q",
        "outputId": "30870431-c0eb-4c7b-96bc-992c5837bf6f"
      },
      "source": [
        "df.Pressure.values"
      ],
      "execution_count": 10,
      "outputs": [
        {
          "output_type": "execute_result",
          "data": {
            "text/plain": [
              "array([  50.733354 ,  202.996997 ,   83.5248782,   33.3513349,\n",
              "        209.58665  ,  137.653375 ,   37.6790534,  187.270012 ,\n",
              "        156.835173 ,  153.806181 ,  183.693679 ,  189.066584 ,\n",
              "        192.480431 ,   55.5638179,   99.7299564,  196.766106 ,\n",
              "        164.851127 ,  214.79605  ,  117.153524 ,  258.542435 ,\n",
              "        166.671315 ,   89.7700459,  194.228346 ,  159.327797 ,\n",
              "        113.04287  ,  117.626334 ,  262.543353 ,  167.536313 ,\n",
              "        153.349884 ,  258.725392 ,  233.211781 ,  216.006163 ,\n",
              "        202.255196 ,  245.928541 ,  251.098102 ,  243.981349 ,\n",
              "        115.856193 ,  179.487305 ,  200.761118 ,  291.751569 ,\n",
              "        139.296158 ,  144.156272 ,  234.436047 ,  293.11253  ,\n",
              "        216.441528 ,  286.112897 ,  197.218136 ,  287.693212 ,\n",
              "        255.925078 ,  266.868013 ,  241.931734 ,  324.243857 ,\n",
              "        225.532471 ,  164.483566 ,  246.054007 ,  329.798971 ,\n",
              "        365.322591 ,  265.870704 ,  249.416301 ,  195.971507 ,\n",
              "        270.665371 ,  341.073241 ,  337.187798 ,  317.9012   ,\n",
              "        196.978592 ,  199.365536 ,  232.134081 ,  252.086378 ,\n",
              "        297.277088 ,  408.450015 ,  291.907636 ,  393.9389   ,\n",
              "        229.539987 ,  295.596374 ,  230.833357 ,  276.268279 ,\n",
              "        388.112872 ,  432.237357 ,  294.665762 ,  254.347651 ,\n",
              "        257.989093 ,  388.333482 ,  275.272766 ,  293.824536 ,\n",
              "        289.532288 ,  433.441701 ,  422.455946 ,  461.276812 ,\n",
              "        368.726123 ,  292.199963 ,  277.08091  ,  278.063246 ,\n",
              "        377.773807 ,  447.445023 ,  434.97071  ,  312.398498 ,\n",
              "        379.089938 ,  444.082815 ,  383.113702 ,  450.395893 ,\n",
              "        364.93754  ,  406.94233  ,  499.734268 ,  352.764192 ,\n",
              "        338.4567   ,  446.795272 ,  475.521412 ,  353.295324 ,\n",
              "        353.880065 ,  447.32855  ,  447.826496 ,  469.915372 ,\n",
              "        460.055641 ,  370.869507 ,  385.506193 ,  432.964071 ,\n",
              "        509.831762 ,  458.197322 ,  393.396602 ,  505.556223 ,\n",
              "        371.691624 ,  377.655451 ,  387.352812 ,  422.831234 ,\n",
              "        538.217659 ,  390.401282 ,  428.613777 ,  446.39185  ,\n",
              "        545.600893 ,  413.467249 ,  505.757042 ,  458.60663  ,\n",
              "        539.640877 ,  475.59236  ,  483.371843 ,  568.690195 ,\n",
              "        582.30243  ,  449.535897 ,  522.745261 ,  572.779377 ,\n",
              "        512.578294 ,  506.148877 ,  513.82743  ,  596.743569 ,\n",
              "        611.095833 ,  553.765307 ,  452.595124 ,  541.281021 ,\n",
              "        641.34323  ,  611.216858 ,  541.478619 ,  520.6008739,\n",
              "        624.5648391,  533.2841765,  550.2902529,  614.9454961,\n",
              "        479.8532158,  570.9427203,  595.320485 ,  578.5264472,\n",
              "        553.4988217,  597.6196711,  626.5247741,  556.0456852,\n",
              "        691.9589465,  621.5068341,  633.2282175,  528.7587791,\n",
              "        586.7946322,  607.4788677,  635.1867118,  706.0976767,\n",
              "        662.3961295,  694.0445021,  696.8034345,  637.0795774,\n",
              "        658.8484396,  537.6765206,  705.1009165,  582.8059942,\n",
              "        609.9412614,  560.7444341,  713.090426 ,  687.0979045,\n",
              "        668.1895842,  570.5287905,  652.2467165,  692.5419794,\n",
              "        703.0177167,  612.416582 ,  584.8931899,  640.8102039,\n",
              "        672.5139107,  667.9946906,  613.9362042,  631.0440803,\n",
              "        730.4208689,  614.9561988,  750.2361373,  775.6787092,\n",
              "        739.8114485,  786.6232967,  696.9502219,  754.6284096,\n",
              "        624.1988811,  646.4535918,  654.9244973,  743.8372319,\n",
              "        649.6275313,  751.8811533,  735.8068891,  759.4613066,\n",
              "        836.1769026,  793.3906345,  683.6194337,  769.9142549,\n",
              "        815.1093457,  668.71761  ,  667.7581413,  681.1235917,\n",
              "        852.2351852,  774.4450222,  792.4404024,  754.085417 ,\n",
              "        795.9719354,  854.6412554,  828.3469118,  825.1029311,\n",
              "        887.9028278,  890.5142889,  849.8147718,  794.5445044,\n",
              "        725.5490597,  715.988523 ,  840.3926252,  744.7015836,\n",
              "        818.0278526,  722.2211533,  891.4429169,  798.034534 ,\n",
              "        839.2170051,  922.1770817,  913.993738 ,  742.1375782,\n",
              "        923.9021716,  897.0666139,  923.1032696,  925.0059355,\n",
              "        919.4124328,  769.1272862,  859.5356315,  797.6332083,\n",
              "        890.0862212,  782.1144313,  911.5781395,  967.5580855,\n",
              "        775.2372508,  910.7938469,  855.4407904,  943.6249795,\n",
              "        792.646159 ,  959.5685117,  961.1449953,  908.1875396,\n",
              "        952.9924645,  871.6185862,  954.2635773,  949.2362236,\n",
              "        910.9017625,  989.5978696, 1000.244321 , 1016.833679 ,\n",
              "        913.498689 ,  955.2386655, 1024.929828 ,  871.8348143,\n",
              "       1020.198306 ,  847.8946822, 1031.155635 ,  868.440263 ,\n",
              "       1025.614468 , 1027.179391 ,  878.1531241,  943.4714631,\n",
              "        926.0491969,  990.2789388,  871.0596147,  985.2378832,\n",
              "        892.879883 ,  912.0038622,  937.1545117, 1055.496949 ,\n",
              "        884.6810135, 1063.980813 , 1024.464034 , 1050.676536 ,\n",
              "        935.9412406, 1040.156563 ,  968.8539503, 1044.490955 ,\n",
              "        950.6776058,  941.5849509,  916.1428919, 1095.92438  ,\n",
              "       1011.715959 , 1120.426884 ,  926.7280212, 1075.656289 ,\n",
              "       1118.121556 , 1055.462069 ,  972.8314485, 1008.367063 ,\n",
              "       1021.172807 , 1123.321974 , 1071.061194 ,  999.5102794,\n",
              "        964.2062495, 1067.726204 , 1102.161857 , 1003.775545 ,\n",
              "       1112.067619 , 1080.570629 , 1052.480195 , 1116.839838 ,\n",
              "       1000.588771 , 1027.085904 , 1089.300812 , 1177.226576 ,\n",
              "       1036.803602 , 1085.728905 , 1176.485923 , 1087.851556 ,\n",
              "       1155.968519 , 1184.554332 , 1180.18331  , 1123.213548 ,\n",
              "       1016.183403 , 1034.865582 , 1161.338906 , 1065.745385 ,\n",
              "       1192.214236 , 1096.696269 , 1081.086614 , 1077.707804 ,\n",
              "       1086.957235 , 1136.024496 , 1132.353311 , 1127.099323 ,\n",
              "       1235.489378 , 1112.956932 , 1070.885853 , 1157.858786 ,\n",
              "       1114.416579 , 1182.425457 , 1174.398406 , 1241.981715 ,\n",
              "       1272.183298 , 1100.407541 , 1090.650364 , 1122.727479 ,\n",
              "       1193.613013 , 1246.535528 , 1238.003843 , 1126.490553 ,\n",
              "       1257.475431 , 1161.928142 , 1150.684923 , 1209.04025  ,\n",
              "       1197.108952 , 1148.500623 , 1249.127687 , 1307.152377 ,\n",
              "       1170.760566 , 1272.725144 , 1282.316354 , 1253.577311 ,\n",
              "       1194.51851  , 1232.684512 , 1169.56101  , 1206.176705 ,\n",
              "       1236.124591 , 1226.448053 , 1190.938934 , 1205.975537 ,\n",
              "       1211.273016 , 1270.919373 , 1221.115708 , 1232.963246 ,\n",
              "       1277.093057 , 1277.016193 , 1239.698556 , 1292.873158 ,\n",
              "       1310.706731 , 1305.577497 , 1211.684799 , 1287.872014 ,\n",
              "       1283.250485 , 1316.262159 , 1257.699553 ])"
            ]
          },
          "metadata": {
            "tags": []
          },
          "execution_count": 10
        }
      ]
    },
    {
      "cell_type": "code",
      "metadata": {
        "colab": {
          "base_uri": "https://localhost:8080/",
          "height": 282
        },
        "id": "RhSrQyBr7wWL",
        "outputId": "7a127ee4-80cf-4cad-a8e4-4a901d563b4a"
      },
      "source": [
        "plt.plot(df.Sample,df.Pressure)"
      ],
      "execution_count": 11,
      "outputs": [
        {
          "output_type": "execute_result",
          "data": {
            "text/plain": [
              "[<matplotlib.lines.Line2D at 0x7f7745518160>]"
            ]
          },
          "metadata": {
            "tags": []
          },
          "execution_count": 11
        },
        {
          "output_type": "display_data",
          "data": {
            "image/png": "[encoded data removed]",
            "text/plain": [
              "<Figure size 432x288 with 1 Axes>"
            ]
          },
          "metadata": {
            "tags": [],
            "needs_background": "light"
          }
        }
      ]
    },
    {
      "cell_type": "code",
      "metadata": {
        "id": "FU4Rb5k38FIJ"
      },
      "source": [
        ""
      ],
      "execution_count": null,
      "outputs": []
    }
  ]
}