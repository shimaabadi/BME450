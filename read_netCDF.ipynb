{
  "nbformat": 4,
  "nbformat_minor": 0,
  "metadata": {
    "colab": {
      "name": "read-netCDF.ipynb",
      "provenance": []
    },
    "kernelspec": {
      "name": "python3",
      "display_name": "Python 3"
    }
  },
  "cells": [
    {
      "cell_type": "markdown",
      "metadata": {
        "id": "ZKkwD8vxZlin"
      },
      "source": [
        "**This is an example showing how to read a netCDF file**\n",
        "\n",
        "In this example, I read Sea Surface Temperature (SST) data from https://www.climate.gov/maps-data/data-snapshots/data-source-sea-surface-temperature \n",
        "\n",
        "\n",
        "Read more about exploring netCDF files from https://gist.github.com/jswhit/43dc116595ed66a92804 \n",
        "\n",
        "By Shima Abadi, Jan. 2020 \n",
        "\n",
        "\n",
        "---\n",
        "\n"
      ]
    },
    {
      "cell_type": "markdown",
      "metadata": {
        "id": "n_fLugj1Z8A6"
      },
      "source": [
        "Run this cell only the firs time to download the netCDF4"
      ]
    },
    {
      "cell_type": "code",
      "metadata": {
        "colab": {
          "base_uri": "https://localhost:8080/"
        },
        "id": "Sev1BDklZlR5",
        "outputId": "b54d48e0-4537-436c-9355-72f92c00a5d0"
      },
      "source": [
        "!pip install netCDF4"
      ],
      "execution_count": 1,
      "outputs": [
        {
          "output_type": "stream",
          "text": [
            "Collecting netCDF4\n",
            "\u001b[?25l  Downloading https://files.pythonhosted.org/packages/1a/71/a321abeee439caf94850b4f68ecef68d2ad584a5a9566816c051654cff94/netCDF4-1.5.5.1-cp36-cp36m-manylinux2014_x86_64.whl (4.7MB)\n",
            "\u001b[K     |████████████████████████████████| 4.7MB 3.9MB/s \n",
            "\u001b[?25hCollecting cftime\n",
            "\u001b[?25l  Downloading https://files.pythonhosted.org/packages/66/60/bad8525d2c046eb2964911bc412a85ba240b31c7b43f0c19377233992c6c/cftime-1.3.0-cp36-cp36m-manylinux1_x86_64.whl (295kB)\n",
            "\u001b[K     |████████████████████████████████| 296kB 41.8MB/s \n",
            "\u001b[?25hRequirement already satisfied: numpy>=1.9 in /usr/local/lib/python3.6/dist-packages (from netCDF4) (1.19.5)\n",
            "Installing collected packages: cftime, netCDF4\n",
            "Successfully installed cftime-1.3.0 netCDF4-1.5.5.1\n"
          ],
          "name": "stdout"
        }
      ]
    },
    {
      "cell_type": "markdown",
      "metadata": {
        "id": "R3kWiVIKaLAA"
      },
      "source": [
        "**Once netcdf4 is successfully installed, import it here**"
      ]
    },
    {
      "cell_type": "code",
      "metadata": {
        "id": "0qAiALmSZMen"
      },
      "source": [
        "import netCDF4 as nc"
      ],
      "execution_count": 2,
      "outputs": []
    },
    {
      "cell_type": "markdown",
      "metadata": {
        "id": "Bn6WbKRuaYJ2"
      },
      "source": [
        "**Then, read the netCDF file and create a netCDF4.Dataset object.**"
      ]
    },
    {
      "cell_type": "code",
      "metadata": {
        "colab": {
          "base_uri": "https://localhost:8080/"
        },
        "id": "ACd_sOVXZhp7",
        "outputId": "92efee3c-6067-467e-88da-6f8ac88add3a"
      },
      "source": [
        "data = nc.Dataset('/content/oisst-avhrr-v02r01.20200207.nc', 'r')\n",
        "print(data)"
      ],
      "execution_count": 3,
      "outputs": [
        {
          "output_type": "stream",
          "text": [
            "<class 'netCDF4._netCDF4.Dataset'>\n",
            "root group (NETCDF4 data model, file format HDF5):\n",
            "    source: ICOADS, NCEP_GTS, GSFC_ICE, NCEP_ICE, Pathfinder_AVHRR, Navy_AVHRR\n",
            "    naming_authority: gov.noaa.ncei\n",
            "    cdm_data_type: Grid\n",
            "    date_modified: 2020-02-22T11:01:00Z\n",
            "    date_created: 2020-02-22T11:01:00Z\n",
            "    processing_level: NOAA Level 4\n",
            "    institution: NOAA/National Centers for Environmental Information\n",
            "    creator_url: https://www.ncei.noaa.gov/\n",
            "    creator_email: oisst-help@noaa.gov\n",
            "    keywords: Earth Science > Oceans > Ocean Temperature > Sea Surface Temperature\n",
            "    keywords_vocabulary: Global Change Master Directory (GCMD) Earth Science Keywords\n",
            "    platform_vocabulary: Global Change Master Directory (GCMD) Platform Keywords\n",
            "    instrument: Earth Remote Sensing Instruments > Passive Remote Sensing > Spectrometers/Radiometers > Imaging Spectrometers/Radiometers > AVHRR > Advanced Very High Resolution Radiometer\n",
            "    instrument_vocabulary: Global Change Master Directory (GCMD) Instrument Keywords\n",
            "    standard_name_vocabulary: CF Standard Name Table (v40, 25 January 2017)\n",
            "    geospatial_lat_min: -90.0\n",
            "    geospatial_lat_max: 90.0\n",
            "    geospatial_lon_min: 0.0\n",
            "    geospatial_lon_max: 360.0\n",
            "    geospatial_lat_units: degrees_north\n",
            "    geospatial_lat_resolution: 0.25\n",
            "    geospatial_lon_units: degrees_east\n",
            "    geospatial_lon_resolution: 0.25\n",
            "    time_coverage_start: 2020-02-07T00:00:00Z\n",
            "    time_coverage_end: 2020-02-07T23:59:59Z\n",
            "    ncei_template_version: NCEI_NetCDF_Grid_Template_v2.0\n",
            "    Conventions: CF-1.6, ACDD-1.3\n",
            "    history: Final file created using preliminary as first guess, and 3 days of AVHRR data. Preliminary uses only 1 day of AVHRR data.\n",
            "    metadata_link: https://doi.org/10.25921/RE9P-PT57\n",
            "    sensor: Thermometer, AVHRR\n",
            "    title: NOAA/NCEI 1/4 Degree Daily Optimum Interpolation Sea Surface Temperature (OISST) Analysis, Version 2.1 - Final\n",
            "    references: Reynolds, et al.(2007) Daily High-Resolution-Blended Analyses for Sea Surface Temperature (available at https://doi.org/10.1175/2007JCLI1824.1). Banzon, et al.(2016) A long-term record of blended satellite and in situ sea-surface temperature for climate monitoring, modeling and environmental studies (available at https://doi.org/10.5194/essd-8-165-2016). Huang et al. (2020) Improvements of the Daily Optimum Interpolation Sea Surface Temperature (DOISST) Version v02r01, submitted.Climatology is based on 1971-2000 OI.v2 SST. Satellite data: Pathfinder AVHRR SST and Navy AVHRR SST. Ice data: NCEP Ice and GSFC Ice.\n",
            "    summary: NOAAs 1/4-degree Daily Optimum Interpolation Sea Surface Temperature (OISST) (sometimes referred to as Reynolds SST, which however also refers to earlier products at different resolution), currently available as version v02r01, is created by interpolating and extrapolating SST observations from different sources, resulting in a smoothed complete field. The sources of data are satellite (AVHRR) and in situ platforms (i.e., ships and buoys), and the specific datasets employed may change over time. At the marginal ice zone, sea ice concentrations are used to generate proxy SSTs.  A preliminary version of this file is produced in near-real time (1-day latency), and then replaced with a final version after 2 weeks. Note that this is the AVHRR-ONLY DOISST, available from Oct 1981, but there is a companion DOISST product that includes microwave satellite data, available from June 2002\n",
            "    product_version: Version v02r01\n",
            "    platform: Ships, buoys, Argo floats, MetOp-A, MetOp-B\n",
            "    comment: Data was converted from NetCDF-3 to NetCDF-4 format with metadata updates in November 2017.\n",
            "    id: oisst-avhrr-v02r01.20200207.nc\n",
            "    dimensions(sizes): time(1), zlev(1), lat(720), lon(1440)\n",
            "    variables(dimensions): float64 time(time), int16 anom(time, zlev, lat, lon), int16 err(time, zlev, lat, lon), int16 ice(time, zlev, lat, lon), float32 lat(lat), float32 lon(lon), int16 sst(time, zlev, lat, lon), float32 zlev(zlev)\n",
            "    groups: \n"
          ],
          "name": "stdout"
        }
      ]
    },
    {
      "cell_type": "markdown",
      "metadata": {
        "id": "-_HNRBGkeuQC"
      },
      "source": [
        "**To access variables, you need to read them from the variables dict**"
      ]
    },
    {
      "cell_type": "code",
      "metadata": {
        "colab": {
          "base_uri": "https://localhost:8080/"
        },
        "id": "-HNVN9_hZkZG",
        "outputId": "24c60e17-aa07-4c24-e9a8-560fb0301280"
      },
      "source": [
        "sst = data.variables['sst']  # temperature variable\n",
        "print(sst)"
      ],
      "execution_count": 4,
      "outputs": [
        {
          "output_type": "stream",
          "text": [
            "<class 'netCDF4._netCDF4.Variable'>\n",
            "int16 sst(time, zlev, lat, lon)\n",
            "    long_name: Daily sea surface temperature\n",
            "    _FillValue: -999\n",
            "    add_offset: 0.0\n",
            "    scale_factor: 0.01\n",
            "    valid_min: -300\n",
            "    valid_max: 4500\n",
            "    units: Celsius\n",
            "unlimited dimensions: time\n",
            "current shape = (1, 1, 720, 1440)\n",
            "filling on\n"
          ],
          "name": "stdout"
        }
      ]
    },
    {
      "cell_type": "markdown",
      "metadata": {
        "id": "kp7LvjiDfy0A"
      },
      "source": [
        "**Dimention and Shape**\n",
        "\n",
        "Below are the dimention and shape of this variable. \n",
        "Each dimension has a variable associated with it which , in this example, are: time(1), zlev(1), lat(720), lon(1440)"
      ]
    },
    {
      "cell_type": "code",
      "metadata": {
        "colab": {
          "base_uri": "https://localhost:8080/"
        },
        "id": "tJJfPaAXfuYJ",
        "outputId": "82941140-71bb-460f-fd11-b826a0704b56"
      },
      "source": [
        "sst.dimensions"
      ],
      "execution_count": 5,
      "outputs": [
        {
          "output_type": "execute_result",
          "data": {
            "text/plain": [
              "('time', 'zlev', 'lat', 'lon')"
            ]
          },
          "metadata": {
            "tags": []
          },
          "execution_count": 5
        }
      ]
    },
    {
      "cell_type": "code",
      "metadata": {
        "colab": {
          "base_uri": "https://localhost:8080/"
        },
        "id": "PEm92MWSfXW2",
        "outputId": "75dea73a-255d-4f50-ab39-8d074f19a8bf"
      },
      "source": [
        "sst.shape"
      ],
      "execution_count": 6,
      "outputs": [
        {
          "output_type": "execute_result",
          "data": {
            "text/plain": [
              "(1, 1, 720, 1440)"
            ]
          },
          "metadata": {
            "tags": []
          },
          "execution_count": 6
        }
      ]
    },
    {
      "cell_type": "markdown",
      "metadata": {
        "id": "oOWp2Jkugmgn"
      },
      "source": [
        "**Let's get the corrdinate**"
      ]
    },
    {
      "cell_type": "code",
      "metadata": {
        "colab": {
          "base_uri": "https://localhost:8080/"
        },
        "id": "2rT4D6Pmf-8F",
        "outputId": "b4a2f336-adda-4afe-99bc-6df66c135396"
      },
      "source": [
        "lat, lon = data.variables['lat'], data.variables['lon']\n",
        "print(lat)"
      ],
      "execution_count": 7,
      "outputs": [
        {
          "output_type": "stream",
          "text": [
            "<class 'netCDF4._netCDF4.Variable'>\n",
            "float32 lat(lat)\n",
            "    long_name: Latitude\n",
            "    units: degrees_north\n",
            "    grids: Uniform grid from -89.875 to 89.875 by 0.25\n",
            "unlimited dimensions: \n",
            "current shape = (720,)\n",
            "filling on, default _FillValue of 9.969209968386869e+36 used\n"
          ],
          "name": "stdout"
        }
      ]
    },
    {
      "cell_type": "markdown",
      "metadata": {
        "id": "CtoLvCqzhMgd"
      },
      "source": [
        "Now, get the time of the data"
      ]
    },
    {
      "cell_type": "code",
      "metadata": {
        "colab": {
          "base_uri": "https://localhost:8080/"
        },
        "id": "jxO6xxSWhMNZ",
        "outputId": "4fdb49a8-a856-4af7-ed06-b1bb2d44a2be"
      },
      "source": [
        "time = data.variables['time']\n",
        "print(time)"
      ],
      "execution_count": 8,
      "outputs": [
        {
          "output_type": "stream",
          "text": [
            "<class 'netCDF4._netCDF4.Variable'>\n",
            "float64 time(time)\n",
            "    long_name: Center time of the day\n",
            "    units: days since 1978-01-01 12:00:00\n",
            "unlimited dimensions: time\n",
            "current shape = (1,)\n",
            "filling on, default _FillValue of 9.969209968386869e+36 used\n"
          ],
          "name": "stdout"
        }
      ]
    },
    {
      "cell_type": "markdown",
      "metadata": {
        "id": "_4O0Grxah33H"
      },
      "source": [
        "**Plot SST on a map**"
      ]
    },
    {
      "cell_type": "code",
      "metadata": {
        "colab": {
          "base_uri": "https://localhost:8080/",
          "height": 265
        },
        "id": "txFFg6vcguKm",
        "outputId": "0cf59509-62ea-4972-93c8-ede1ad8660c4"
      },
      "source": [
        "import matplotlib.pyplot as plt\n",
        "%matplotlib inline\n",
        "cs = plt.contourf(lon[:],lat[:],sst[0,0,:,:])"
      ],
      "execution_count": 12,
      "outputs": [
        {
          "output_type": "display_data",
          "data": {
            "image/png": "[encoded data removed]",
            "text/plain": [
              "<Figure size 432x288 with 1 Axes>"
            ]
          },
          "metadata": {
            "tags": [],
            "needs_background": "light"
          }
        }
      ]
    },
    {
      "cell_type": "code",
      "metadata": {
        "id": "CFv8dlw6hwiC"
      },
      "source": [
        ""
      ],
      "execution_count": null,
      "outputs": []
    }
  ]
}